{
 "cells": [
  {
   "cell_type": "code",
   "execution_count": 2,
   "id": "373ca0c8",
   "metadata": {},
   "outputs": [],
   "source": [
    "import numpy as np\n",
    "import pandas as pd\n",
    "from utils.ticker_data import get_stock_data\n",
    "from datetime import datetime, timedelta\n",
    "import time\n",
    "import os"
   ]
  },
  {
   "cell_type": "code",
   "execution_count": 6,
   "id": "a772e47e",
   "metadata": {},
   "outputs": [],
   "source": [
    "def download_bulk_hourly(ticker, start_date, filepath = \"data/hourly\"):\n",
    "    os.makedirs(filepath, exist_ok=True)\n",
    "    path = os.path.join(filepath, f\"{ticker}.csv\")\n",
    "\n",
    "    end_date = datetime.today()\n",
    "    start_date = datetime(*[int(i) for i in start_date.split('-')])\n",
    "\n",
    "    full_df = pd.DataFrame()\n",
    "    current_date = start_date\n",
    "    chunk_size = timedelta(days=365)\n",
    "    while current_date < end_date:\n",
    "        chunk_end = min(current_date + chunk_size, end_date)\n",
    "        print(f\"fetching {current_date.strftime('%Y-%m-%d')} {chunk_end.strftime('%Y-%m-%d')}\")\n",
    "        \n",
    "        df_chunk = get_stock_data(ticker, start=current_date.strftime('%Y-%m-%d'), end = chunk_end.strftime('%Y-%m-%d'), hourly=True)\n",
    "        full_df = pd.concat([full_df, df_chunk], ignore_index=True)\n",
    "        \n",
    "        current_date = chunk_end + timedelta(days=1)\n",
    "        time.sleep(1)\n",
    "    print(f\"shape : {full_df.shape}\")\n",
    "    full_df.to_csv(path, index=False)"
   ]
  },
  {
   "cell_type": "code",
   "execution_count": 17,
   "id": "1a6fdde5",
   "metadata": {},
   "outputs": [
    {
     "name": "stdout",
     "output_type": "stream",
     "text": [
      "fetching 2023-07-14 2024-07-13\n"
     ]
    },
    {
     "name": "stderr",
     "output_type": "stream",
     "text": [
      "c:\\Users\\borishan\\Desktop\\ml\\code\\ml_vs_baseline_reits\\utils\\ticker_data.py:21: FutureWarning: YF.download() has changed argument auto_adjust default to True\n",
      "  df = yf.download(\n",
      "[*********************100%***********************]  1 of 1 completed\n"
     ]
    },
    {
     "name": "stdout",
     "output_type": "stream",
     "text": [
      "fetching 2024-07-14 2025-07-12\n"
     ]
    },
    {
     "name": "stderr",
     "output_type": "stream",
     "text": [
      "c:\\Users\\borishan\\Desktop\\ml\\code\\ml_vs_baseline_reits\\utils\\ticker_data.py:21: FutureWarning: YF.download() has changed argument auto_adjust default to True\n",
      "  df = yf.download(\n",
      "[*********************100%***********************]  1 of 1 completed\n"
     ]
    },
    {
     "name": "stdout",
     "output_type": "stream",
     "text": [
      "shape : (3428, 7)\n",
      "fetching 2023-07-14 2024-07-13\n"
     ]
    },
    {
     "name": "stderr",
     "output_type": "stream",
     "text": [
      "c:\\Users\\borishan\\Desktop\\ml\\code\\ml_vs_baseline_reits\\utils\\ticker_data.py:21: FutureWarning: YF.download() has changed argument auto_adjust default to True\n",
      "  df = yf.download(\n",
      "[*********************100%***********************]  1 of 1 completed\n"
     ]
    },
    {
     "name": "stdout",
     "output_type": "stream",
     "text": [
      "fetching 2024-07-14 2025-07-12\n"
     ]
    },
    {
     "name": "stderr",
     "output_type": "stream",
     "text": [
      "c:\\Users\\borishan\\Desktop\\ml\\code\\ml_vs_baseline_reits\\utils\\ticker_data.py:21: FutureWarning: YF.download() has changed argument auto_adjust default to True\n",
      "  df = yf.download(\n",
      "[*********************100%***********************]  1 of 1 completed\n"
     ]
    },
    {
     "name": "stdout",
     "output_type": "stream",
     "text": [
      "shape : (3406, 7)\n",
      "fetching 2023-07-14 2024-07-13\n"
     ]
    },
    {
     "name": "stderr",
     "output_type": "stream",
     "text": [
      "c:\\Users\\borishan\\Desktop\\ml\\code\\ml_vs_baseline_reits\\utils\\ticker_data.py:21: FutureWarning: YF.download() has changed argument auto_adjust default to True\n",
      "  df = yf.download(\n",
      "[*********************100%***********************]  1 of 1 completed\n"
     ]
    },
    {
     "name": "stdout",
     "output_type": "stream",
     "text": [
      "fetching 2024-07-14 2025-07-12\n"
     ]
    },
    {
     "name": "stderr",
     "output_type": "stream",
     "text": [
      "c:\\Users\\borishan\\Desktop\\ml\\code\\ml_vs_baseline_reits\\utils\\ticker_data.py:21: FutureWarning: YF.download() has changed argument auto_adjust default to True\n",
      "  df = yf.download(\n",
      "[*********************100%***********************]  1 of 1 completed\n"
     ]
    },
    {
     "name": "stdout",
     "output_type": "stream",
     "text": [
      "shape : (3410, 7)\n",
      "fetching 2023-07-14 2024-07-13\n"
     ]
    },
    {
     "name": "stderr",
     "output_type": "stream",
     "text": [
      "c:\\Users\\borishan\\Desktop\\ml\\code\\ml_vs_baseline_reits\\utils\\ticker_data.py:21: FutureWarning: YF.download() has changed argument auto_adjust default to True\n",
      "  df = yf.download(\n",
      "[*********************100%***********************]  1 of 1 completed\n"
     ]
    },
    {
     "name": "stdout",
     "output_type": "stream",
     "text": [
      "fetching 2024-07-14 2025-07-12\n"
     ]
    },
    {
     "name": "stderr",
     "output_type": "stream",
     "text": [
      "c:\\Users\\borishan\\Desktop\\ml\\code\\ml_vs_baseline_reits\\utils\\ticker_data.py:21: FutureWarning: YF.download() has changed argument auto_adjust default to True\n",
      "  df = yf.download(\n",
      "[*********************100%***********************]  1 of 1 completed\n"
     ]
    },
    {
     "name": "stdout",
     "output_type": "stream",
     "text": [
      "shape : (3404, 7)\n",
      "fetching 2023-07-14 2024-07-13\n"
     ]
    },
    {
     "name": "stderr",
     "output_type": "stream",
     "text": [
      "c:\\Users\\borishan\\Desktop\\ml\\code\\ml_vs_baseline_reits\\utils\\ticker_data.py:21: FutureWarning: YF.download() has changed argument auto_adjust default to True\n",
      "  df = yf.download(\n",
      "[*********************100%***********************]  1 of 1 completed\n"
     ]
    },
    {
     "name": "stdout",
     "output_type": "stream",
     "text": [
      "fetching 2024-07-14 2025-07-12\n"
     ]
    },
    {
     "name": "stderr",
     "output_type": "stream",
     "text": [
      "c:\\Users\\borishan\\Desktop\\ml\\code\\ml_vs_baseline_reits\\utils\\ticker_data.py:21: FutureWarning: YF.download() has changed argument auto_adjust default to True\n",
      "  df = yf.download(\n",
      "[*********************100%***********************]  1 of 1 completed\n"
     ]
    },
    {
     "name": "stdout",
     "output_type": "stream",
     "text": [
      "shape : (3428, 7)\n",
      "fetching 2023-07-14 2024-07-13\n"
     ]
    },
    {
     "name": "stderr",
     "output_type": "stream",
     "text": [
      "c:\\Users\\borishan\\Desktop\\ml\\code\\ml_vs_baseline_reits\\utils\\ticker_data.py:21: FutureWarning: YF.download() has changed argument auto_adjust default to True\n",
      "  df = yf.download(\n",
      "[*********************100%***********************]  1 of 1 completed\n"
     ]
    },
    {
     "name": "stdout",
     "output_type": "stream",
     "text": [
      "fetching 2024-07-14 2025-07-12\n"
     ]
    },
    {
     "name": "stderr",
     "output_type": "stream",
     "text": [
      "c:\\Users\\borishan\\Desktop\\ml\\code\\ml_vs_baseline_reits\\utils\\ticker_data.py:21: FutureWarning: YF.download() has changed argument auto_adjust default to True\n",
      "  df = yf.download(\n",
      "[*********************100%***********************]  1 of 1 completed\n"
     ]
    },
    {
     "name": "stdout",
     "output_type": "stream",
     "text": [
      "shape : (3428, 7)\n",
      "fetching 2023-07-14 2024-07-13\n"
     ]
    },
    {
     "name": "stderr",
     "output_type": "stream",
     "text": [
      "c:\\Users\\borishan\\Desktop\\ml\\code\\ml_vs_baseline_reits\\utils\\ticker_data.py:21: FutureWarning: YF.download() has changed argument auto_adjust default to True\n",
      "  df = yf.download(\n",
      "[*********************100%***********************]  1 of 1 completed\n"
     ]
    },
    {
     "name": "stdout",
     "output_type": "stream",
     "text": [
      "fetching 2024-07-14 2025-07-12\n"
     ]
    },
    {
     "name": "stderr",
     "output_type": "stream",
     "text": [
      "c:\\Users\\borishan\\Desktop\\ml\\code\\ml_vs_baseline_reits\\utils\\ticker_data.py:21: FutureWarning: YF.download() has changed argument auto_adjust default to True\n",
      "  df = yf.download(\n",
      "[*********************100%***********************]  1 of 1 completed\n"
     ]
    },
    {
     "name": "stdout",
     "output_type": "stream",
     "text": [
      "shape : (3428, 7)\n",
      "fetching 2023-07-14 2024-07-13\n"
     ]
    },
    {
     "name": "stderr",
     "output_type": "stream",
     "text": [
      "c:\\Users\\borishan\\Desktop\\ml\\code\\ml_vs_baseline_reits\\utils\\ticker_data.py:21: FutureWarning: YF.download() has changed argument auto_adjust default to True\n",
      "  df = yf.download(\n",
      "[*********************100%***********************]  1 of 1 completed\n"
     ]
    },
    {
     "name": "stdout",
     "output_type": "stream",
     "text": [
      "fetching 2024-07-14 2025-07-12\n"
     ]
    },
    {
     "name": "stderr",
     "output_type": "stream",
     "text": [
      "c:\\Users\\borishan\\Desktop\\ml\\code\\ml_vs_baseline_reits\\utils\\ticker_data.py:21: FutureWarning: YF.download() has changed argument auto_adjust default to True\n",
      "  df = yf.download(\n",
      "[*********************100%***********************]  1 of 1 completed\n"
     ]
    },
    {
     "name": "stdout",
     "output_type": "stream",
     "text": [
      "shape : (3428, 7)\n",
      "fetching 2023-07-14 2024-07-13\n"
     ]
    },
    {
     "name": "stderr",
     "output_type": "stream",
     "text": [
      "c:\\Users\\borishan\\Desktop\\ml\\code\\ml_vs_baseline_reits\\utils\\ticker_data.py:21: FutureWarning: YF.download() has changed argument auto_adjust default to True\n",
      "  df = yf.download(\n",
      "[*********************100%***********************]  1 of 1 completed\n"
     ]
    },
    {
     "name": "stdout",
     "output_type": "stream",
     "text": [
      "fetching 2024-07-14 2025-07-12\n"
     ]
    },
    {
     "name": "stderr",
     "output_type": "stream",
     "text": [
      "c:\\Users\\borishan\\Desktop\\ml\\code\\ml_vs_baseline_reits\\utils\\ticker_data.py:21: FutureWarning: YF.download() has changed argument auto_adjust default to True\n",
      "  df = yf.download(\n",
      "[*********************100%***********************]  1 of 1 completed\n"
     ]
    },
    {
     "name": "stdout",
     "output_type": "stream",
     "text": [
      "shape : (3435, 7)\n",
      "fetching 2023-07-14 2024-07-13\n"
     ]
    },
    {
     "name": "stderr",
     "output_type": "stream",
     "text": [
      "c:\\Users\\borishan\\Desktop\\ml\\code\\ml_vs_baseline_reits\\utils\\ticker_data.py:21: FutureWarning: YF.download() has changed argument auto_adjust default to True\n",
      "  df = yf.download(\n",
      "[*********************100%***********************]  1 of 1 completed\n"
     ]
    },
    {
     "name": "stdout",
     "output_type": "stream",
     "text": [
      "fetching 2024-07-14 2025-07-12\n"
     ]
    },
    {
     "name": "stderr",
     "output_type": "stream",
     "text": [
      "c:\\Users\\borishan\\Desktop\\ml\\code\\ml_vs_baseline_reits\\utils\\ticker_data.py:21: FutureWarning: YF.download() has changed argument auto_adjust default to True\n",
      "  df = yf.download(\n",
      "[*********************100%***********************]  1 of 1 completed\n"
     ]
    },
    {
     "name": "stdout",
     "output_type": "stream",
     "text": [
      "shape : (4234, 7)\n",
      "fetching 2023-07-14 2024-07-13\n"
     ]
    },
    {
     "name": "stderr",
     "output_type": "stream",
     "text": [
      "c:\\Users\\borishan\\Desktop\\ml\\code\\ml_vs_baseline_reits\\utils\\ticker_data.py:21: FutureWarning: YF.download() has changed argument auto_adjust default to True\n",
      "  df = yf.download(\n",
      "[*********************100%***********************]  1 of 1 completed\n"
     ]
    },
    {
     "name": "stdout",
     "output_type": "stream",
     "text": [
      "fetching 2024-07-14 2025-07-12\n"
     ]
    },
    {
     "name": "stderr",
     "output_type": "stream",
     "text": [
      "c:\\Users\\borishan\\Desktop\\ml\\code\\ml_vs_baseline_reits\\utils\\ticker_data.py:21: FutureWarning: YF.download() has changed argument auto_adjust default to True\n",
      "  df = yf.download(\n",
      "[*********************100%***********************]  1 of 1 completed\n"
     ]
    },
    {
     "name": "stdout",
     "output_type": "stream",
     "text": [
      "shape : (3402, 7)\n",
      "fetching 2023-07-14 2024-07-13\n"
     ]
    },
    {
     "name": "stderr",
     "output_type": "stream",
     "text": [
      "c:\\Users\\borishan\\Desktop\\ml\\code\\ml_vs_baseline_reits\\utils\\ticker_data.py:21: FutureWarning: YF.download() has changed argument auto_adjust default to True\n",
      "  df = yf.download(\n",
      "[*********************100%***********************]  1 of 1 completed\n"
     ]
    },
    {
     "name": "stdout",
     "output_type": "stream",
     "text": [
      "fetching 2024-07-14 2025-07-12\n"
     ]
    },
    {
     "name": "stderr",
     "output_type": "stream",
     "text": [
      "c:\\Users\\borishan\\Desktop\\ml\\code\\ml_vs_baseline_reits\\utils\\ticker_data.py:21: FutureWarning: YF.download() has changed argument auto_adjust default to True\n",
      "  df = yf.download(\n",
      "[*********************100%***********************]  1 of 1 completed\n"
     ]
    },
    {
     "name": "stdout",
     "output_type": "stream",
     "text": [
      "shape : (4233, 7)\n",
      "fetching 2023-07-14 2024-07-13\n"
     ]
    },
    {
     "name": "stderr",
     "output_type": "stream",
     "text": [
      "c:\\Users\\borishan\\Desktop\\ml\\code\\ml_vs_baseline_reits\\utils\\ticker_data.py:21: FutureWarning: YF.download() has changed argument auto_adjust default to True\n",
      "  df = yf.download(\n",
      "[*********************100%***********************]  1 of 1 completed\n"
     ]
    },
    {
     "name": "stdout",
     "output_type": "stream",
     "text": [
      "fetching 2024-07-14 2025-07-12\n"
     ]
    },
    {
     "name": "stderr",
     "output_type": "stream",
     "text": [
      "c:\\Users\\borishan\\Desktop\\ml\\code\\ml_vs_baseline_reits\\utils\\ticker_data.py:21: FutureWarning: YF.download() has changed argument auto_adjust default to True\n",
      "  df = yf.download(\n",
      "[*********************100%***********************]  1 of 1 completed\n"
     ]
    },
    {
     "name": "stdout",
     "output_type": "stream",
     "text": [
      "shape : (11558, 7)\n",
      "fetching 2023-07-14 2024-07-13\n"
     ]
    },
    {
     "name": "stderr",
     "output_type": "stream",
     "text": [
      "c:\\Users\\borishan\\Desktop\\ml\\code\\ml_vs_baseline_reits\\utils\\ticker_data.py:21: FutureWarning: YF.download() has changed argument auto_adjust default to True\n",
      "  df = yf.download(\n",
      "[*********************100%***********************]  1 of 1 completed\n"
     ]
    },
    {
     "name": "stdout",
     "output_type": "stream",
     "text": [
      "fetching 2024-07-14 2025-07-12\n"
     ]
    },
    {
     "name": "stderr",
     "output_type": "stream",
     "text": [
      "c:\\Users\\borishan\\Desktop\\ml\\code\\ml_vs_baseline_reits\\utils\\ticker_data.py:21: FutureWarning: YF.download() has changed argument auto_adjust default to True\n",
      "  df = yf.download(\n",
      "[*********************100%***********************]  1 of 1 completed\n"
     ]
    },
    {
     "name": "stdout",
     "output_type": "stream",
     "text": [
      "shape : (8301, 7)\n",
      "fetching 2023-07-14 2024-07-13\n"
     ]
    },
    {
     "name": "stderr",
     "output_type": "stream",
     "text": [
      "c:\\Users\\borishan\\Desktop\\ml\\code\\ml_vs_baseline_reits\\utils\\ticker_data.py:21: FutureWarning: YF.download() has changed argument auto_adjust default to True\n",
      "  df = yf.download(\n",
      "[*********************100%***********************]  1 of 1 completed\n"
     ]
    },
    {
     "name": "stdout",
     "output_type": "stream",
     "text": [
      "fetching 2024-07-14 2025-07-12\n"
     ]
    },
    {
     "name": "stderr",
     "output_type": "stream",
     "text": [
      "c:\\Users\\borishan\\Desktop\\ml\\code\\ml_vs_baseline_reits\\utils\\ticker_data.py:21: FutureWarning: YF.download() has changed argument auto_adjust default to True\n",
      "  df = yf.download(\n",
      "[*********************100%***********************]  1 of 1 completed\n"
     ]
    },
    {
     "name": "stdout",
     "output_type": "stream",
     "text": [
      "shape : (8301, 7)\n",
      "fetching 2023-07-14 2024-07-13\n"
     ]
    },
    {
     "name": "stderr",
     "output_type": "stream",
     "text": [
      "c:\\Users\\borishan\\Desktop\\ml\\code\\ml_vs_baseline_reits\\utils\\ticker_data.py:21: FutureWarning: YF.download() has changed argument auto_adjust default to True\n",
      "  df = yf.download(\n",
      "[*********************100%***********************]  1 of 1 completed\n"
     ]
    },
    {
     "name": "stdout",
     "output_type": "stream",
     "text": [
      "fetching 2024-07-14 2025-07-12\n"
     ]
    },
    {
     "name": "stderr",
     "output_type": "stream",
     "text": [
      "c:\\Users\\borishan\\Desktop\\ml\\code\\ml_vs_baseline_reits\\utils\\ticker_data.py:21: FutureWarning: YF.download() has changed argument auto_adjust default to True\n",
      "  df = yf.download(\n",
      "[*********************100%***********************]  1 of 1 completed\n"
     ]
    },
    {
     "name": "stdout",
     "output_type": "stream",
     "text": [
      "shape : (8301, 7)\n",
      "fetching 2023-07-14 2024-07-13\n"
     ]
    },
    {
     "name": "stderr",
     "output_type": "stream",
     "text": [
      "c:\\Users\\borishan\\Desktop\\ml\\code\\ml_vs_baseline_reits\\utils\\ticker_data.py:21: FutureWarning: YF.download() has changed argument auto_adjust default to True\n",
      "  df = yf.download(\n",
      "[*********************100%***********************]  1 of 1 completed\n"
     ]
    },
    {
     "name": "stdout",
     "output_type": "stream",
     "text": [
      "fetching 2024-07-14 2025-07-12\n"
     ]
    },
    {
     "name": "stderr",
     "output_type": "stream",
     "text": [
      "c:\\Users\\borishan\\Desktop\\ml\\code\\ml_vs_baseline_reits\\utils\\ticker_data.py:21: FutureWarning: YF.download() has changed argument auto_adjust default to True\n",
      "  df = yf.download(\n",
      "[*********************100%***********************]  1 of 1 completed\n"
     ]
    },
    {
     "name": "stdout",
     "output_type": "stream",
     "text": [
      "shape : (8301, 7)\n",
      "fetching 2023-07-14 2024-07-13\n"
     ]
    },
    {
     "name": "stderr",
     "output_type": "stream",
     "text": [
      "c:\\Users\\borishan\\Desktop\\ml\\code\\ml_vs_baseline_reits\\utils\\ticker_data.py:21: FutureWarning: YF.download() has changed argument auto_adjust default to True\n",
      "  df = yf.download(\n",
      "[*********************100%***********************]  1 of 1 completed\n"
     ]
    },
    {
     "name": "stdout",
     "output_type": "stream",
     "text": [
      "fetching 2024-07-14 2025-07-12\n"
     ]
    },
    {
     "name": "stderr",
     "output_type": "stream",
     "text": [
      "c:\\Users\\borishan\\Desktop\\ml\\code\\ml_vs_baseline_reits\\utils\\ticker_data.py:21: FutureWarning: YF.download() has changed argument auto_adjust default to True\n",
      "  df = yf.download(\n",
      "[*********************100%***********************]  1 of 1 completed\n"
     ]
    },
    {
     "name": "stdout",
     "output_type": "stream",
     "text": [
      "shape : (8301, 7)\n"
     ]
    }
   ],
   "source": [
    "tickers = pd.read_csv(\"tickers.txt\", header=None)\n",
    "for t in tickers.values.reshape(len(tickers)):\n",
    "    download_bulk_hourly(t, \"2023-07-14\")"
   ]
  },
  {
   "cell_type": "code",
   "execution_count": 21,
   "id": "412dff4b",
   "metadata": {},
   "outputs": [
    {
     "name": "stderr",
     "output_type": "stream",
     "text": [
      "c:\\Users\\borishan\\Desktop\\ml\\code\\ml_vs_baseline_reits\\utils\\ticker_data.py:21: FutureWarning: YF.download() has changed argument auto_adjust default to True\n",
      "  df = yf.download(\n",
      "[*********************100%***********************]  1 of 1 completed\n",
      "c:\\Users\\borishan\\Desktop\\ml\\code\\ml_vs_baseline_reits\\utils\\ticker_data.py:21: FutureWarning: YF.download() has changed argument auto_adjust default to True\n",
      "  df = yf.download(\n"
     ]
    },
    {
     "name": "stdout",
     "output_type": "stream",
     "text": [
      "EMBASSY.BO downloaded\n"
     ]
    },
    {
     "name": "stderr",
     "output_type": "stream",
     "text": [
      "[*********************100%***********************]  1 of 1 completed\n",
      "c:\\Users\\borishan\\Desktop\\ml\\code\\ml_vs_baseline_reits\\utils\\ticker_data.py:21: FutureWarning: YF.download() has changed argument auto_adjust default to True\n",
      "  df = yf.download(\n"
     ]
    },
    {
     "name": "stdout",
     "output_type": "stream",
     "text": [
      "MINDSPACE.BO downloaded\n"
     ]
    },
    {
     "name": "stderr",
     "output_type": "stream",
     "text": [
      "[*********************100%***********************]  1 of 1 completed\n",
      "c:\\Users\\borishan\\Desktop\\ml\\code\\ml_vs_baseline_reits\\utils\\ticker_data.py:21: FutureWarning: YF.download() has changed argument auto_adjust default to True\n",
      "  df = yf.download(\n"
     ]
    },
    {
     "name": "stdout",
     "output_type": "stream",
     "text": [
      "BIRET.BO downloaded\n"
     ]
    },
    {
     "name": "stderr",
     "output_type": "stream",
     "text": [
      "[*********************100%***********************]  1 of 1 completed\n",
      "c:\\Users\\borishan\\Desktop\\ml\\code\\ml_vs_baseline_reits\\utils\\ticker_data.py:21: FutureWarning: YF.download() has changed argument auto_adjust default to True\n",
      "  df = yf.download(\n"
     ]
    },
    {
     "name": "stdout",
     "output_type": "stream",
     "text": [
      "NXST.BO downloaded\n"
     ]
    },
    {
     "name": "stderr",
     "output_type": "stream",
     "text": [
      "[*********************100%***********************]  1 of 1 completed\n",
      "c:\\Users\\borishan\\Desktop\\ml\\code\\ml_vs_baseline_reits\\utils\\ticker_data.py:21: FutureWarning: YF.download() has changed argument auto_adjust default to True\n",
      "  df = yf.download(\n"
     ]
    },
    {
     "name": "stdout",
     "output_type": "stream",
     "text": [
      "LODHA.NS downloaded\n"
     ]
    },
    {
     "name": "stderr",
     "output_type": "stream",
     "text": [
      "[*********************100%***********************]  1 of 1 completed\n",
      "c:\\Users\\borishan\\Desktop\\ml\\code\\ml_vs_baseline_reits\\utils\\ticker_data.py:21: FutureWarning: YF.download() has changed argument auto_adjust default to True\n",
      "  df = yf.download(\n"
     ]
    },
    {
     "name": "stdout",
     "output_type": "stream",
     "text": [
      "DLF.NS downloaded\n"
     ]
    },
    {
     "name": "stderr",
     "output_type": "stream",
     "text": [
      "[*********************100%***********************]  1 of 1 completed\n",
      "c:\\Users\\borishan\\Desktop\\ml\\code\\ml_vs_baseline_reits\\utils\\ticker_data.py:21: FutureWarning: YF.download() has changed argument auto_adjust default to True\n",
      "  df = yf.download(\n"
     ]
    },
    {
     "name": "stdout",
     "output_type": "stream",
     "text": [
      "GODREJPROP.NS downloaded\n"
     ]
    },
    {
     "name": "stderr",
     "output_type": "stream",
     "text": [
      "[*********************100%***********************]  1 of 1 completed\n",
      "c:\\Users\\borishan\\Desktop\\ml\\code\\ml_vs_baseline_reits\\utils\\ticker_data.py:21: FutureWarning: YF.download() has changed argument auto_adjust default to True\n",
      "  df = yf.download(\n"
     ]
    },
    {
     "name": "stdout",
     "output_type": "stream",
     "text": [
      "OBEROIRLTY.NS downloaded\n"
     ]
    },
    {
     "name": "stderr",
     "output_type": "stream",
     "text": [
      "[*********************100%***********************]  1 of 1 completed\n",
      "c:\\Users\\borishan\\Desktop\\ml\\code\\ml_vs_baseline_reits\\utils\\ticker_data.py:21: FutureWarning: YF.download() has changed argument auto_adjust default to True\n",
      "  df = yf.download(\n"
     ]
    },
    {
     "name": "stdout",
     "output_type": "stream",
     "text": [
      "^NSEI downloaded\n"
     ]
    },
    {
     "name": "stderr",
     "output_type": "stream",
     "text": [
      "[*********************100%***********************]  1 of 1 completed\n",
      "c:\\Users\\borishan\\Desktop\\ml\\code\\ml_vs_baseline_reits\\utils\\ticker_data.py:21: FutureWarning: YF.download() has changed argument auto_adjust default to True\n",
      "  df = yf.download(\n"
     ]
    },
    {
     "name": "stdout",
     "output_type": "stream",
     "text": [
      "^GSPC downloaded\n"
     ]
    },
    {
     "name": "stderr",
     "output_type": "stream",
     "text": [
      "[*********************100%***********************]  1 of 1 completed\n",
      "c:\\Users\\borishan\\Desktop\\ml\\code\\ml_vs_baseline_reits\\utils\\ticker_data.py:21: FutureWarning: YF.download() has changed argument auto_adjust default to True\n",
      "  df = yf.download(\n"
     ]
    },
    {
     "name": "stdout",
     "output_type": "stream",
     "text": [
      "^N225 downloaded\n"
     ]
    },
    {
     "name": "stderr",
     "output_type": "stream",
     "text": [
      "[*********************100%***********************]  1 of 1 completed\n",
      "c:\\Users\\borishan\\Desktop\\ml\\code\\ml_vs_baseline_reits\\utils\\ticker_data.py:21: FutureWarning: YF.download() has changed argument auto_adjust default to True\n",
      "  df = yf.download(\n"
     ]
    },
    {
     "name": "stdout",
     "output_type": "stream",
     "text": [
      "^DJI downloaded\n"
     ]
    },
    {
     "name": "stderr",
     "output_type": "stream",
     "text": [
      "[*********************100%***********************]  1 of 1 completed\n",
      "c:\\Users\\borishan\\Desktop\\ml\\code\\ml_vs_baseline_reits\\utils\\ticker_data.py:21: FutureWarning: YF.download() has changed argument auto_adjust default to True\n",
      "  df = yf.download(\n"
     ]
    },
    {
     "name": "stdout",
     "output_type": "stream",
     "text": [
      "GC=F downloaded\n"
     ]
    },
    {
     "name": "stderr",
     "output_type": "stream",
     "text": [
      "[*********************100%***********************]  1 of 1 completed\n",
      "c:\\Users\\borishan\\Desktop\\ml\\code\\ml_vs_baseline_reits\\utils\\ticker_data.py:21: FutureWarning: YF.download() has changed argument auto_adjust default to True\n",
      "  df = yf.download(\n"
     ]
    },
    {
     "name": "stdout",
     "output_type": "stream",
     "text": [
      "AAPL downloaded\n"
     ]
    },
    {
     "name": "stderr",
     "output_type": "stream",
     "text": [
      "[*********************100%***********************]  1 of 1 completed\n",
      "c:\\Users\\borishan\\Desktop\\ml\\code\\ml_vs_baseline_reits\\utils\\ticker_data.py:21: FutureWarning: YF.download() has changed argument auto_adjust default to True\n",
      "  df = yf.download(\n"
     ]
    },
    {
     "name": "stdout",
     "output_type": "stream",
     "text": [
      "META downloaded\n"
     ]
    },
    {
     "name": "stderr",
     "output_type": "stream",
     "text": [
      "[*********************100%***********************]  1 of 1 completed\n",
      "c:\\Users\\borishan\\Desktop\\ml\\code\\ml_vs_baseline_reits\\utils\\ticker_data.py:21: FutureWarning: YF.download() has changed argument auto_adjust default to True\n",
      "  df = yf.download(\n"
     ]
    },
    {
     "name": "stdout",
     "output_type": "stream",
     "text": [
      "NVDA downloaded\n"
     ]
    },
    {
     "name": "stderr",
     "output_type": "stream",
     "text": [
      "[*********************100%***********************]  1 of 1 completed\n",
      "c:\\Users\\borishan\\Desktop\\ml\\code\\ml_vs_baseline_reits\\utils\\ticker_data.py:21: FutureWarning: YF.download() has changed argument auto_adjust default to True\n",
      "  df = yf.download(\n"
     ]
    },
    {
     "name": "stdout",
     "output_type": "stream",
     "text": [
      "MSFT downloaded\n"
     ]
    },
    {
     "name": "stderr",
     "output_type": "stream",
     "text": [
      "[*********************100%***********************]  1 of 1 completed"
     ]
    },
    {
     "name": "stdout",
     "output_type": "stream",
     "text": [
      "GOOGL downloaded\n"
     ]
    },
    {
     "name": "stderr",
     "output_type": "stream",
     "text": [
      "\n"
     ]
    }
   ],
   "source": [
    "filepath = \"data/daily\"\n",
    "os.makedirs(filepath, exist_ok=True)\n",
    "for t in tickers.values.reshape(len(tickers)):\n",
    "    path = os.path.join(filepath, f\"{t}.csv\")\n",
    "    df = get_stock_data(t, \"2000-01-01\")\n",
    "    df.to_csv(path, index=False)\n",
    "    print(f\"{t} downloaded\")"
   ]
  }
 ],
 "metadata": {
  "kernelspec": {
   "display_name": "venv",
   "language": "python",
   "name": "python3"
  },
  "language_info": {
   "codemirror_mode": {
    "name": "ipython",
    "version": 3
   },
   "file_extension": ".py",
   "mimetype": "text/x-python",
   "name": "python",
   "nbconvert_exporter": "python",
   "pygments_lexer": "ipython3",
   "version": "3.13.3"
  }
 },
 "nbformat": 4,
 "nbformat_minor": 5
}
